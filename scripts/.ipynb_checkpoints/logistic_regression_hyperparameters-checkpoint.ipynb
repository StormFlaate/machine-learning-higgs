{
 "cells": [
  {
   "cell_type": "code",
   "execution_count": 4,
   "id": "539770cd",
   "metadata": {},
   "outputs": [],
   "source": [
    "import matplotlib.pyplot as plt\n",
    "\n",
    "from implementations import least_squares, least_squares_GD, least_squares_SGD, logistic_regression\n",
    "from weight_helpers import *\n",
    "from data_reader import load_clean_csv"
   ]
  },
  {
   "cell_type": "code",
   "execution_count": 7,
   "id": "34c211ab",
   "metadata": {},
   "outputs": [],
   "source": [
    "\n",
    "# Loading in the data\n",
    "#TRAIN_DATA_PATH = '../data/clean_data.csv'\n",
    "TRAIN_DATA_PATH = '../data/clean_short_train.csv'\n",
    "y, tX, ids = load_clean_csv(TRAIN_DATA_PATH)\n",
    "\n",
    "\n",
    "#TEST_DATA_CSV = '../data/clean_test_data.csv\n",
    "TEST_DATA_CSV = '../data/clean_short_test.csv'\n",
    "'\n"
   ]
  },
  {
   "cell_type": "code",
   "execution_count": null,
   "id": "4999b7c3",
   "metadata": {},
   "outputs": [],
   "source": [
    "# Parameters\n",
    "gamma_test_values = np.logspace(-15,10,30)\n",
    "initial_w = np.zeros(19)\n",
    "\n",
    "max_iters = 100\n",
    "\n",
    "for gamma in gamma_test_values:\n",
    "    w = initial_w\n",
    "    w, loss = logistic_regression(y, tX, w, max_iters, gamma)\n",
    "    test_loss.append(loss)\n",
    "\n",
    "\n"
   ]
  }
 ],
 "metadata": {
  "kernelspec": {
   "display_name": "Python 3",
   "language": "python",
   "name": "python3"
  },
  "language_info": {
   "codemirror_mode": {
    "name": "ipython",
    "version": 3
   },
   "file_extension": ".py",
   "mimetype": "text/x-python",
   "name": "python",
   "nbconvert_exporter": "python",
   "pygments_lexer": "ipython3",
   "version": "3.8.8"
  }
 },
 "nbformat": 4,
 "nbformat_minor": 5
}
