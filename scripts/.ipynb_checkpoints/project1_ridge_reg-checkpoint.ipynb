{
 "cells": [
  {
   "cell_type": "code",
   "execution_count": 2,
   "metadata": {},
   "outputs": [],
   "source": [
    "# Useful starting lines\n",
    "%matplotlib inline\n",
    "import numpy as np\n",
    "import matplotlib.pyplot as plt\n",
    "%load_ext autoreload\n",
    "%autoreload 2"
   ]
  },
  {
   "cell_type": "markdown",
   "metadata": {},
   "source": [
    "## Load the training data into feature matrix, class labels, and event ids:"
   ]
  },
  {
   "cell_type": "code",
   "execution_count": 12,
   "metadata": {},
   "outputs": [],
   "source": [
    "from proj1_helpers import *\n",
    "DATA_TRAIN_PATH = '../data/train.csv' # TODO: download train data and supply path here \n",
    "y, tx, ids = load_csv_data(DATA_TRAIN_PATH)\n",
    "DATA_TEST_PATH = '../data/test.csv' # TODO: download train data and supply path here \n",
    "y_test, tX_test, ids_test = load_csv_data(DATA_TEST_PATH)"
   ]
  },
  {
   "cell_type": "markdown",
   "metadata": {},
   "source": [
    "## Do your thing crazy machine learning thing here :) ..."
   ]
  },
  {
   "cell_type": "code",
   "execution_count": 13,
   "metadata": {},
   "outputs": [
    {
     "name": "stdout",
     "output_type": "stream",
     "text": [
      "Y shape:  (250000,)\n",
      "tX shape  (250000, 30)\n",
      "ids shape:  (250000,)\n"
     ]
    }
   ],
   "source": [
    "print(\"Y shape: \", y.shape)\n",
    "print(\"tX shape \", tx.shape)\n",
    "print(\"ids shape: \", ids.shape)"
   ]
  },
  {
   "cell_type": "code",
   "execution_count": 14,
   "metadata": {},
   "outputs": [],
   "source": [
    "from implementations import ridge_regression\n",
    "from proj1_helpers import *"
   ]
  },
  {
   "cell_type": "markdown",
   "metadata": {},
   "source": [
    "# Ridge regression\n",
    "**Here we are testing 1000 different values for lambda and then plotting the lambda value to error relationship.**\n",
    "\n",
    "To perform this we initialize a list called \"ridge_regression_weights\" consisting of 1000 elements. This list will be filled up with the weight vectors that are calculated in by the function ridge_regression(y, tx, lambda_) that we have defined in the implementations.py.  \n",
    "\n",
    "The loss is also calculated by the ridge regression function and added to the list of losses.\n"
   ]
  },
  {
   "cell_type": "code",
   "execution_count": 94,
   "metadata": {},
   "outputs": [],
   "source": [
    "#Testing 1000 different lambda values going from 0 up to 999\n",
    "\n",
    "#Here we define the actual range of the lambda's, setting the n to 1000 (n-1) \n",
    "lambda_from_0_to_n = 1000\n",
    "\n",
    "# Defining the list of weights, setting it to the value defined*the number of columns in tx\n",
    "ridge_regression_weights = np.zeros(lambda_from_0_to_n*tx.shape[1])\n",
    "\n",
    "# Then i will reshape this into (in this example) a 1000*30 array\n",
    "ridge_regression_weights = np.reshape(ridge_regression_weights, (lambda_from_0_to_n, tx.shape[1]))\n",
    "\n",
    "# Defining the ridghe regression loss list\n",
    "ridge_regression_losss = np.zeros(lambda_from_0_to_n)\n",
    "\n",
    "# Looping over all possible lambda values and calculating the given weight and loss\n",
    "for i in range(lambda_from_0_to_n):\n",
    "    r_output = ridge_regression(y, tx, i)\n",
    "    ridge_regression_losss[i] = r_output[1]\n",
    "    for index_j, vector_element_j in enumerate(r_output[0]):\n",
    "        ridge_regression_weights[i, index_j] = vector_element_j"
   ]
  },
  {
   "cell_type": "code",
   "execution_count": 95,
   "metadata": {},
   "outputs": [
    {
     "name": "stdout",
     "output_type": "stream",
     "text": [
      "[ 8.03494353e-05 -7.20202266e-03 -6.05417274e-03 -5.47559078e-04\n",
      " -1.93874691e-02  4.73451612e-04 -2.60379060e-02  3.25106299e-01\n",
      " -3.80779986e-05 -2.72791286e+00 -2.21220141e-01  9.50794097e-02\n",
      "  6.40351614e-02  2.73617254e+00 -3.31801087e-04 -9.54325142e-04\n",
      "  2.74092928e+00 -5.34165299e-04  9.73498926e-04  3.69225050e-03\n",
      "  3.54487153e-04 -5.43344619e-04 -3.30448035e-01 -1.40800496e-03\n",
      "  8.31432833e-04  1.02117276e-03 -1.68047418e-03 -5.83664783e-03\n",
      " -1.11088004e-02  2.72837279e+00]\n"
     ]
    }
   ],
   "source": [
    "print(ridge_regression_weights[0])"
   ]
  },
  {
   "cell_type": "code",
   "execution_count": 96,
   "metadata": {},
   "outputs": [
    {
     "data": {
      "image/png": "[encoded data removed]",
      "text/plain": [
       "<Figure size 1080x576 with 1 Axes>"
      ]
     },
     "metadata": {
      "needs_background": "light"
     },
     "output_type": "display_data"
    }
   ],
   "source": [
    "plt.figure(figsize=(15,8))\n",
    "plt.xlabel(\"Lambda value\", fontsize=18)\n",
    "plt.ylabel(\"Error\", fontsize=18)\n",
    "plt.scatter(range(1000), loss_list, s=1)\n",
    "plt.show()"
   ]
  },
  {
   "cell_type": "markdown",
   "metadata": {},
   "source": [
    "# Logistic regression"
   ]
  },
  {
   "cell_type": "code",
   "execution_count": 77,
   "metadata": {},
   "outputs": [],
   "source": [
    "from implementations import logistic_regression"
   ]
  },
  {
   "cell_type": "code",
   "execution_count": 101,
   "metadata": {},
   "outputs": [
    {
     "name": "stdout",
     "output_type": "stream",
     "text": [
      "63635.495795794835\n",
      "nan\n",
      "nan\n",
      "(array([ 6.80125663e+09, -2.93852558e+09, -3.77275695e+09, -2.49967266e+09,\n",
      "        2.84358566e+10,  2.36886703e+10,  2.84701413e+10, -1.05445588e+08,\n",
      "       -1.00035668e+09, -7.69191385e+09, -7.79560765e+07,  1.80625271e+07,\n",
      "        2.84647604e+10, -1.52341207e+09,  3.02441040e+05, -2.00354658e+05,\n",
      "       -2.26855044e+09,  8.10470244e+05, -1.44493869e+06, -2.05524728e+09,\n",
      "        1.21480817e+06, -1.00904369e+10, -5.29441555e+07,  1.61022643e+10,\n",
      "        1.84939541e+10,  1.84941014e+10,  2.74034867e+10,  2.84712957e+10,\n",
      "        2.84708243e+10, -3.89995128e+09]), nan)\n"
     ]
    }
   ],
   "source": [
    "initial_w = ridge_regression_weights[0]\n",
    "max_iters = 3\n",
    "gamma = 100\n",
    "print(logistic_regression(y, tx, initial_w, max_iters, gamma))"
   ]
  },
  {
   "cell_type": "markdown",
   "metadata": {},
   "source": [
    "## Generate predictions and save ouput in csv format for submission:"
   ]
  },
  {
   "cell_type": "code",
   "execution_count": 20,
   "metadata": {},
   "outputs": [
    {
     "data": {
      "text/plain": [
       "0.8898485670702437"
      ]
     },
     "execution_count": 20,
     "metadata": {},
     "output_type": "execute_result"
    }
   ],
   "source": [
    "compute_loss(y_test, tX_test, w_list[150])"
   ]
  },
  {
   "cell_type": "code",
   "execution_count": 7,
   "metadata": {},
   "outputs": [
    {
     "ename": "NameError",
     "evalue": "name 'weights' is not defined",
     "output_type": "error",
     "traceback": [
      "\u001b[0;31m---------------------------------------------------------------------------\u001b[0m",
      "\u001b[0;31mNameError\u001b[0m                                 Traceback (most recent call last)",
      "\u001b[0;32m<ipython-input-7-1a5e51a4d3eb>\u001b[0m in \u001b[0;36m<module>\u001b[0;34m\u001b[0m\n\u001b[1;32m      1\u001b[0m \u001b[0mOUTPUT_PATH\u001b[0m \u001b[0;34m=\u001b[0m \u001b[0;34m''\u001b[0m \u001b[0;31m# TODO: fill in desired name of output file for submission\u001b[0m\u001b[0;34m\u001b[0m\u001b[0;34m\u001b[0m\u001b[0m\n\u001b[0;32m----> 2\u001b[0;31m \u001b[0my_pred\u001b[0m \u001b[0;34m=\u001b[0m \u001b[0mpredict_labels\u001b[0m\u001b[0;34m(\u001b[0m\u001b[0mweights\u001b[0m\u001b[0;34m,\u001b[0m \u001b[0mtX_test\u001b[0m\u001b[0;34m)\u001b[0m\u001b[0;34m\u001b[0m\u001b[0;34m\u001b[0m\u001b[0m\n\u001b[0m\u001b[1;32m      3\u001b[0m \u001b[0mcreate_csv_submission\u001b[0m\u001b[0;34m(\u001b[0m\u001b[0mids_test\u001b[0m\u001b[0;34m,\u001b[0m \u001b[0my_pred\u001b[0m\u001b[0;34m,\u001b[0m \u001b[0mOUTPUT_PATH\u001b[0m\u001b[0;34m)\u001b[0m\u001b[0;34m\u001b[0m\u001b[0;34m\u001b[0m\u001b[0m\n",
      "\u001b[0;31mNameError\u001b[0m: name 'weights' is not defined"
     ]
    }
   ],
   "source": [
    "OUTPUT_PATH = '' # TODO: fill in desired name of output file for submission\n",
    "y_pred = predict_labels(weights, tX_test)\n",
    "create_csv_submission(ids_test, y_pred, OUTPUT_PATH)"
   ]
  },
  {
   "cell_type": "code",
   "execution_count": null,
   "metadata": {
    "collapsed": true
   },
   "outputs": [],
   "source": []
  }
 ],
 "metadata": {
  "anaconda-cloud": {},
  "kernelspec": {
   "display_name": "Python 3",
   "language": "python",
   "name": "python3"
  },
  "language_info": {
   "codemirror_mode": {
    "name": "ipython",
    "version": 3
   },
   "file_extension": ".py",
   "mimetype": "text/x-python",
   "name": "python",
   "nbconvert_exporter": "python",
   "pygments_lexer": "ipython3",
   "version": "3.8.8"
  }
 },
 "nbformat": 4,
 "nbformat_minor": 1
}
