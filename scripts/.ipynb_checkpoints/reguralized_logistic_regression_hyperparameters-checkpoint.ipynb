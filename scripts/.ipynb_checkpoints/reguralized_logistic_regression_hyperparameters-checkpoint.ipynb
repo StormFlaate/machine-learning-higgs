{
 "cells": [
  {
   "cell_type": "code",
   "execution_count": 7,
   "id": "a6b8f82e",
   "metadata": {},
   "outputs": [],
   "source": [
    "import matplotlib.pyplot as plt\n",
    "\n",
    "from implementations import least_squares, least_squares_GD, least_squares_SGD, logistic_regression, reguralized_logistic_regression\n",
    "from weight_helpers import *\n",
    "from data_reader import load_clean_csv"
   ]
  },
  {
   "cell_type": "code",
   "execution_count": 4,
   "id": "0aabddde",
   "metadata": {},
   "outputs": [],
   "source": [
    "\n",
    "# Loading in the data\n",
    "#TRAIN_DATA_PATH = '../data/clean_train_data.csv'\n",
    "TRAIN_DATA_PATH = '../data/clean_short_train.csv'\n",
    "y, tX, ids = load_clean_csv(TRAIN_DATA_PATH)\n",
    "\n",
    "#TEST_DATA_PATH = '../data/clean_test_data.csv'\n",
    "#TEST_DATA_PATH = '../data/clean_short_test.csv'\n",
    "#y_test, tX_test, ids_test = load_clean_csv(TEST_DATA_PATH)"
   ]
  },
  {
   "cell_type": "code",
   "execution_count": 5,
   "id": "cf53acbe",
   "metadata": {},
   "outputs": [
    {
     "name": "stdout",
     "output_type": "stream",
     "text": [
      "Y train:  (9000,)\n",
      "tX train:  (9000, 19)\n",
      "Y test:  (1000,)\n",
      "tX test:  (1000, 19)\n"
     ]
    }
   ],
   "source": [
    "# Splitting into test and train\n",
    "np.random.seed(1)\n",
    "y_train, tX_train, y_test, tX_test = y[:int(0.9*len(y))],tX[:int(0.9*len(y))], y[int(0.9*len(y)):], tX[int(0.9*len(y)):] \n",
    "\n",
    "print(\"Y train: \", y_train.shape)\n",
    "print(\"tX train: \", tX_train.shape)\n",
    "print(\"Y test: \", y_test.shape)\n",
    "print(\"tX test: \", tX_test.shape)"
   ]
  },
  {
   "cell_type": "code",
   "execution_count": 8,
   "id": "6713cb85",
   "metadata": {},
   "outputs": [
    {
     "name": "stdout",
     "output_type": "stream",
     "text": [
      "Current gamma value: 1e-11\n"
     ]
    },
    {
     "ename": "NameError",
     "evalue": "name 'reguralized_logistic_regression' is not defined",
     "output_type": "error",
     "traceback": [
      "\u001b[0;31m---------------------------------------------------------------------------\u001b[0m",
      "\u001b[0;31mNameError\u001b[0m                                 Traceback (most recent call last)",
      "\u001b[0;32m<ipython-input-8-56ac128a1196>\u001b[0m in \u001b[0;36m<module>\u001b[0;34m\u001b[0m\n\u001b[1;32m     11\u001b[0m     \u001b[0mprint\u001b[0m\u001b[0;34m(\u001b[0m\u001b[0;34m\"Current gamma value:\"\u001b[0m\u001b[0;34m,\u001b[0m \u001b[0mgamma\u001b[0m\u001b[0;34m)\u001b[0m\u001b[0;34m\u001b[0m\u001b[0;34m\u001b[0m\u001b[0m\n\u001b[1;32m     12\u001b[0m     \u001b[0mw\u001b[0m \u001b[0;34m=\u001b[0m \u001b[0minitial_w\u001b[0m\u001b[0;34m\u001b[0m\u001b[0;34m\u001b[0m\u001b[0m\n\u001b[0;32m---> 13\u001b[0;31m     \u001b[0mw\u001b[0m\u001b[0;34m,\u001b[0m \u001b[0mloss\u001b[0m \u001b[0;34m=\u001b[0m \u001b[0mreguralized_logistic_regression\u001b[0m\u001b[0;34m(\u001b[0m\u001b[0my\u001b[0m\u001b[0;34m,\u001b[0m \u001b[0mtx\u001b[0m\u001b[0;34m,\u001b[0m \u001b[0mlambda_\u001b[0m\u001b[0;34m,\u001b[0m \u001b[0minitial_w\u001b[0m\u001b[0;34m,\u001b[0m \u001b[0mmax_iters\u001b[0m\u001b[0;34m,\u001b[0m \u001b[0mgamma\u001b[0m\u001b[0;34m)\u001b[0m\u001b[0;34m\u001b[0m\u001b[0;34m\u001b[0m\u001b[0m\n\u001b[0m\u001b[1;32m     14\u001b[0m     \u001b[0mtest_loss\u001b[0m\u001b[0;34m.\u001b[0m\u001b[0mappend\u001b[0m\u001b[0;34m(\u001b[0m\u001b[0mloss\u001b[0m\u001b[0;34m)\u001b[0m\u001b[0;34m\u001b[0m\u001b[0;34m\u001b[0m\u001b[0m\n\u001b[1;32m     15\u001b[0m     \u001b[0mtest_weights\u001b[0m\u001b[0;34m.\u001b[0m\u001b[0mappend\u001b[0m\u001b[0;34m(\u001b[0m\u001b[0mw\u001b[0m\u001b[0;34m)\u001b[0m\u001b[0;34m\u001b[0m\u001b[0;34m\u001b[0m\u001b[0m\n",
      "\u001b[0;31mNameError\u001b[0m: name 'reguralized_logistic_regression' is not defined"
     ]
    }
   ],
   "source": [
    "lambda_test_values = [0.0000001, 0.00000001, 0.000000001, 0.0000000001, 0.00000000001, 0.000000000001,\n",
    "                     0.0000000000001, 0.00000000000001, 0.000000000000001]\n",
    "initial_w = np.zeros(19)\n",
    "\n",
    "max_iters = 1000\n",
    "\n",
    "test_loss = []\n",
    "test_weights = []\n",
    "gamma = 1e-11\n",
    "for lambda_ in lambda_test_values:\n",
    "    print(\"Current gamma value:\", gamma)\n",
    "    w = initial_w\n",
    "    w, loss = reguralized_logistic_regression(y, tx, lambda_, initial_w, max_iters, gamma)\n",
    "    test_loss.append(loss)\n",
    "    test_weights.append(w)\n",
    "    \n",
    "    y_prediction = tX_test@w\n",
    "    tot_score = 0\n",
    "\n",
    "    for y_i, y_pred in zip(y_test, y_prediction):\n",
    "        if (y_i > 0) and y_pred > 0:\n",
    "            tot_score +=1\n",
    "        elif y_i <=0 and y_pred <= 0:\n",
    "            tot_score +=1\n",
    "    print(f\"Accuracy: {tot_score/len(y_test)}\" )"
   ]
  },
  {
   "cell_type": "code",
   "execution_count": null,
   "id": "3f2aa1ba",
   "metadata": {},
   "outputs": [],
   "source": []
  }
 ],
 "metadata": {
  "kernelspec": {
   "display_name": "Python 3",
   "language": "python",
   "name": "python3"
  },
  "language_info": {
   "codemirror_mode": {
    "name": "ipython",
    "version": 3
   },
   "file_extension": ".py",
   "mimetype": "text/x-python",
   "name": "python",
   "nbconvert_exporter": "python",
   "pygments_lexer": "ipython3",
   "version": "3.8.8"
  }
 },
 "nbformat": 4,
 "nbformat_minor": 5
}
